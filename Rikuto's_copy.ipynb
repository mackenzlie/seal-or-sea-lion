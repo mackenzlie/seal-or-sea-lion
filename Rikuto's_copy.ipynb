{
  "nbformat": 4,
  "nbformat_minor": 0,
  "metadata": {
    "colab": {
      "provenance": [],
      "collapsed_sections": []
    },
    "kernelspec": {
      "name": "python3",
      "display_name": "Python 3"
    },
    "language_info": {
      "name": "python"
    },
    "widgets": {
      "application/vnd.jupyter.widget-state+json": {
        "ff73495275034ac4b3828bce90b1ea36": {
          "model_module": "@jupyter-widgets/controls",
          "model_name": "VBoxModel",
          "model_module_version": "1.5.0",
          "state": {
            "_dom_classes": [],
            "_model_module": "@jupyter-widgets/controls",
            "_model_module_version": "1.5.0",
            "_model_name": "VBoxModel",
            "_view_count": null,
            "_view_module": "@jupyter-widgets/controls",
            "_view_module_version": "1.5.0",
            "_view_name": "VBoxView",
            "box_style": "",
            "children": [
              "IPY_MODEL_d3697d5c416b4198bf86dd5070fd0e74",
              "IPY_MODEL_e2e7d21547f345cfa2eaf14c9ff2ab04",
              "IPY_MODEL_2899c5f6a1c843b4a212f1e1c167561c",
              "IPY_MODEL_7844fef6395845b68242993bf6591990",
              "IPY_MODEL_dc3e7aa72f3b4db689e75fb4299fc3bf"
            ],
            "layout": "IPY_MODEL_5a41b982d6ad487d81cc94916c76404e"
          }
        },
        "d3697d5c416b4198bf86dd5070fd0e74": {
          "model_module": "@jupyter-widgets/controls",
          "model_name": "LabelModel",
          "model_module_version": "1.5.0",
          "state": {
            "_dom_classes": [],
            "_model_module": "@jupyter-widgets/controls",
            "_model_module_version": "1.5.0",
            "_model_name": "LabelModel",
            "_view_count": null,
            "_view_module": "@jupyter-widgets/controls",
            "_view_module_version": "1.5.0",
            "_view_name": "LabelView",
            "description": "",
            "description_tooltip": null,
            "layout": "IPY_MODEL_8b3a126bbded4b2f84bee4f00f127553",
            "placeholder": "​",
            "style": "IPY_MODEL_2048a69f7c67448880edf64983b412fc",
            "value": "Upload a photo of either a sea lion or a seal!"
          }
        },
        "e2e7d21547f345cfa2eaf14c9ff2ab04": {
          "model_module": "@jupyter-widgets/controls",
          "model_name": "FileUploadModel",
          "model_module_version": "1.5.0",
          "state": {
            "_counter": 1,
            "_dom_classes": [],
            "_model_module": "@jupyter-widgets/controls",
            "_model_module_version": "1.5.0",
            "_model_name": "FileUploadModel",
            "_view_count": null,
            "_view_module": "@jupyter-widgets/controls",
            "_view_module_version": "1.5.0",
            "_view_name": "FileUploadView",
            "accept": "",
            "button_style": "",
            "data": [
              null
            ],
            "description": "Upload",
            "description_tooltip": null,
            "disabled": false,
            "error": "",
            "icon": "upload",
            "layout": "IPY_MODEL_ecc4c04770454dc1b27c7cd43cd358f5",
            "metadata": [
              {
                "name": "Screenshot 2022-11-07 155429.png",
                "type": "image/png",
                "size": 24232,
                "lastModified": 1667865272721
              }
            ],
            "multiple": false,
            "style": "IPY_MODEL_31f6b7b926ed446d870636befd61dcaa"
          }
        },
        "2899c5f6a1c843b4a212f1e1c167561c": {
          "model_module": "@jupyter-widgets/controls",
          "model_name": "ButtonModel",
          "model_module_version": "1.5.0",
          "state": {
            "_dom_classes": [],
            "_model_module": "@jupyter-widgets/controls",
            "_model_module_version": "1.5.0",
            "_model_name": "ButtonModel",
            "_view_count": null,
            "_view_module": "@jupyter-widgets/controls",
            "_view_module_version": "1.5.0",
            "_view_name": "ButtonView",
            "button_style": "",
            "description": "Classify",
            "disabled": false,
            "icon": "",
            "layout": "IPY_MODEL_511327ec21d746f09f0db61f609ac238",
            "style": "IPY_MODEL_43773eea46db4bacbc55a72e58af4cb0",
            "tooltip": ""
          }
        },
        "7844fef6395845b68242993bf6591990": {
          "model_module": "@jupyter-widgets/output",
          "model_name": "OutputModel",
          "model_module_version": "1.0.0",
          "state": {
            "_dom_classes": [],
            "_model_module": "@jupyter-widgets/output",
            "_model_module_version": "1.0.0",
            "_model_name": "OutputModel",
            "_view_count": null,
            "_view_module": "@jupyter-widgets/output",
            "_view_module_version": "1.0.0",
            "_view_name": "OutputView",
            "layout": "IPY_MODEL_72802356146442ac993257a45992d9be",
            "msg_id": "",
            "outputs": [
              {
                "output_type": "display_data",
                "data": {
                  "text/plain": "<PIL.Image.Image image mode=RGB size=128x34>",
                  "image/png": "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\n"
                },
                "metadata": {}
              }
            ]
          }
        },
        "dc3e7aa72f3b4db689e75fb4299fc3bf": {
          "model_module": "@jupyter-widgets/controls",
          "model_name": "LabelModel",
          "model_module_version": "1.5.0",
          "state": {
            "_dom_classes": [],
            "_model_module": "@jupyter-widgets/controls",
            "_model_module_version": "1.5.0",
            "_model_name": "LabelModel",
            "_view_count": null,
            "_view_module": "@jupyter-widgets/controls",
            "_view_module_version": "1.5.0",
            "_view_name": "LabelView",
            "description": "",
            "description_tooltip": null,
            "layout": "IPY_MODEL_21bf9fc837594a408b32c50f378074bb",
            "placeholder": "​",
            "style": "IPY_MODEL_08b0d5daee634dc8ab76aef0e45142ca",
            "value": ""
          }
        },
        "5a41b982d6ad487d81cc94916c76404e": {
          "model_module": "@jupyter-widgets/base",
          "model_name": "LayoutModel",
          "model_module_version": "1.2.0",
          "state": {
            "_model_module": "@jupyter-widgets/base",
            "_model_module_version": "1.2.0",
            "_model_name": "LayoutModel",
            "_view_count": null,
            "_view_module": "@jupyter-widgets/base",
            "_view_module_version": "1.2.0",
            "_view_name": "LayoutView",
            "align_content": null,
            "align_items": null,
            "align_self": null,
            "border": null,
            "bottom": null,
            "display": null,
            "flex": null,
            "flex_flow": null,
            "grid_area": null,
            "grid_auto_columns": null,
            "grid_auto_flow": null,
            "grid_auto_rows": null,
            "grid_column": null,
            "grid_gap": null,
            "grid_row": null,
            "grid_template_areas": null,
            "grid_template_columns": null,
            "grid_template_rows": null,
            "height": null,
            "justify_content": null,
            "justify_items": null,
            "left": null,
            "margin": null,
            "max_height": null,
            "max_width": null,
            "min_height": null,
            "min_width": null,
            "object_fit": null,
            "object_position": null,
            "order": null,
            "overflow": null,
            "overflow_x": null,
            "overflow_y": null,
            "padding": null,
            "right": null,
            "top": null,
            "visibility": null,
            "width": null
          }
        },
        "8b3a126bbded4b2f84bee4f00f127553": {
          "model_module": "@jupyter-widgets/base",
          "model_name": "LayoutModel",
          "model_module_version": "1.2.0",
          "state": {
            "_model_module": "@jupyter-widgets/base",
            "_model_module_version": "1.2.0",
            "_model_name": "LayoutModel",
            "_view_count": null,
            "_view_module": "@jupyter-widgets/base",
            "_view_module_version": "1.2.0",
            "_view_name": "LayoutView",
            "align_content": null,
            "align_items": null,
            "align_self": null,
            "border": null,
            "bottom": null,
            "display": null,
            "flex": null,
            "flex_flow": null,
            "grid_area": null,
            "grid_auto_columns": null,
            "grid_auto_flow": null,
            "grid_auto_rows": null,
            "grid_column": null,
            "grid_gap": null,
            "grid_row": null,
            "grid_template_areas": null,
            "grid_template_columns": null,
            "grid_template_rows": null,
            "height": null,
            "justify_content": null,
            "justify_items": null,
            "left": null,
            "margin": null,
            "max_height": null,
            "max_width": null,
            "min_height": null,
            "min_width": null,
            "object_fit": null,
            "object_position": null,
            "order": null,
            "overflow": null,
            "overflow_x": null,
            "overflow_y": null,
            "padding": null,
            "right": null,
            "top": null,
            "visibility": null,
            "width": null
          }
        },
        "2048a69f7c67448880edf64983b412fc": {
          "model_module": "@jupyter-widgets/controls",
          "model_name": "DescriptionStyleModel",
          "model_module_version": "1.5.0",
          "state": {
            "_model_module": "@jupyter-widgets/controls",
            "_model_module_version": "1.5.0",
            "_model_name": "DescriptionStyleModel",
            "_view_count": null,
            "_view_module": "@jupyter-widgets/base",
            "_view_module_version": "1.2.0",
            "_view_name": "StyleView",
            "description_width": ""
          }
        },
        "ecc4c04770454dc1b27c7cd43cd358f5": {
          "model_module": "@jupyter-widgets/base",
          "model_name": "LayoutModel",
          "model_module_version": "1.2.0",
          "state": {
            "_model_module": "@jupyter-widgets/base",
            "_model_module_version": "1.2.0",
            "_model_name": "LayoutModel",
            "_view_count": null,
            "_view_module": "@jupyter-widgets/base",
            "_view_module_version": "1.2.0",
            "_view_name": "LayoutView",
            "align_content": null,
            "align_items": null,
            "align_self": null,
            "border": null,
            "bottom": null,
            "display": null,
            "flex": null,
            "flex_flow": null,
            "grid_area": null,
            "grid_auto_columns": null,
            "grid_auto_flow": null,
            "grid_auto_rows": null,
            "grid_column": null,
            "grid_gap": null,
            "grid_row": null,
            "grid_template_areas": null,
            "grid_template_columns": null,
            "grid_template_rows": null,
            "height": null,
            "justify_content": null,
            "justify_items": null,
            "left": null,
            "margin": null,
            "max_height": null,
            "max_width": null,
            "min_height": null,
            "min_width": null,
            "object_fit": null,
            "object_position": null,
            "order": null,
            "overflow": null,
            "overflow_x": null,
            "overflow_y": null,
            "padding": null,
            "right": null,
            "top": null,
            "visibility": null,
            "width": null
          }
        },
        "31f6b7b926ed446d870636befd61dcaa": {
          "model_module": "@jupyter-widgets/controls",
          "model_name": "ButtonStyleModel",
          "model_module_version": "1.5.0",
          "state": {
            "_model_module": "@jupyter-widgets/controls",
            "_model_module_version": "1.5.0",
            "_model_name": "ButtonStyleModel",
            "_view_count": null,
            "_view_module": "@jupyter-widgets/base",
            "_view_module_version": "1.2.0",
            "_view_name": "StyleView",
            "button_color": null,
            "font_weight": ""
          }
        },
        "511327ec21d746f09f0db61f609ac238": {
          "model_module": "@jupyter-widgets/base",
          "model_name": "LayoutModel",
          "model_module_version": "1.2.0",
          "state": {
            "_model_module": "@jupyter-widgets/base",
            "_model_module_version": "1.2.0",
            "_model_name": "LayoutModel",
            "_view_count": null,
            "_view_module": "@jupyter-widgets/base",
            "_view_module_version": "1.2.0",
            "_view_name": "LayoutView",
            "align_content": null,
            "align_items": null,
            "align_self": null,
            "border": null,
            "bottom": null,
            "display": null,
            "flex": null,
            "flex_flow": null,
            "grid_area": null,
            "grid_auto_columns": null,
            "grid_auto_flow": null,
            "grid_auto_rows": null,
            "grid_column": null,
            "grid_gap": null,
            "grid_row": null,
            "grid_template_areas": null,
            "grid_template_columns": null,
            "grid_template_rows": null,
            "height": null,
            "justify_content": null,
            "justify_items": null,
            "left": null,
            "margin": null,
            "max_height": null,
            "max_width": null,
            "min_height": null,
            "min_width": null,
            "object_fit": null,
            "object_position": null,
            "order": null,
            "overflow": null,
            "overflow_x": null,
            "overflow_y": null,
            "padding": null,
            "right": null,
            "top": null,
            "visibility": null,
            "width": null
          }
        },
        "43773eea46db4bacbc55a72e58af4cb0": {
          "model_module": "@jupyter-widgets/controls",
          "model_name": "ButtonStyleModel",
          "model_module_version": "1.5.0",
          "state": {
            "_model_module": "@jupyter-widgets/controls",
            "_model_module_version": "1.5.0",
            "_model_name": "ButtonStyleModel",
            "_view_count": null,
            "_view_module": "@jupyter-widgets/base",
            "_view_module_version": "1.2.0",
            "_view_name": "StyleView",
            "button_color": null,
            "font_weight": ""
          }
        },
        "21bf9fc837594a408b32c50f378074bb": {
          "model_module": "@jupyter-widgets/base",
          "model_name": "LayoutModel",
          "model_module_version": "1.2.0",
          "state": {
            "_model_module": "@jupyter-widgets/base",
            "_model_module_version": "1.2.0",
            "_model_name": "LayoutModel",
            "_view_count": null,
            "_view_module": "@jupyter-widgets/base",
            "_view_module_version": "1.2.0",
            "_view_name": "LayoutView",
            "align_content": null,
            "align_items": null,
            "align_self": null,
            "border": null,
            "bottom": null,
            "display": null,
            "flex": null,
            "flex_flow": null,
            "grid_area": null,
            "grid_auto_columns": null,
            "grid_auto_flow": null,
            "grid_auto_rows": null,
            "grid_column": null,
            "grid_gap": null,
            "grid_row": null,
            "grid_template_areas": null,
            "grid_template_columns": null,
            "grid_template_rows": null,
            "height": null,
            "justify_content": null,
            "justify_items": null,
            "left": null,
            "margin": null,
            "max_height": null,
            "max_width": null,
            "min_height": null,
            "min_width": null,
            "object_fit": null,
            "object_position": null,
            "order": null,
            "overflow": null,
            "overflow_x": null,
            "overflow_y": null,
            "padding": null,
            "right": null,
            "top": null,
            "visibility": null,
            "width": null
          }
        },
        "08b0d5daee634dc8ab76aef0e45142ca": {
          "model_module": "@jupyter-widgets/controls",
          "model_name": "DescriptionStyleModel",
          "model_module_version": "1.5.0",
          "state": {
            "_model_module": "@jupyter-widgets/controls",
            "_model_module_version": "1.5.0",
            "_model_name": "DescriptionStyleModel",
            "_view_count": null,
            "_view_module": "@jupyter-widgets/base",
            "_view_module_version": "1.2.0",
            "_view_name": "StyleView",
            "description_width": ""
          }
        },
        "72802356146442ac993257a45992d9be": {
          "model_module": "@jupyter-widgets/base",
          "model_name": "LayoutModel",
          "model_module_version": "1.2.0",
          "state": {
            "_model_module": "@jupyter-widgets/base",
            "_model_module_version": "1.2.0",
            "_model_name": "LayoutModel",
            "_view_count": null,
            "_view_module": "@jupyter-widgets/base",
            "_view_module_version": "1.2.0",
            "_view_name": "LayoutView",
            "align_content": null,
            "align_items": null,
            "align_self": null,
            "border": null,
            "bottom": null,
            "display": null,
            "flex": null,
            "flex_flow": null,
            "grid_area": null,
            "grid_auto_columns": null,
            "grid_auto_flow": null,
            "grid_auto_rows": null,
            "grid_column": null,
            "grid_gap": null,
            "grid_row": null,
            "grid_template_areas": null,
            "grid_template_columns": null,
            "grid_template_rows": null,
            "height": null,
            "justify_content": null,
            "justify_items": null,
            "left": null,
            "margin": null,
            "max_height": null,
            "max_width": null,
            "min_height": null,
            "min_width": null,
            "object_fit": null,
            "object_position": null,
            "order": null,
            "overflow": null,
            "overflow_x": null,
            "overflow_y": null,
            "padding": null,
            "right": null,
            "top": null,
            "visibility": null,
            "width": null
          }
        }
      }
    }
  },
  "cells": [
    {
      "cell_type": "markdown",
      "source": [
        "export file to shared drive, and create widgets(ie buttons so people can upload pitures, classify the image, etc)"
      ],
      "metadata": {
        "id": "edhunRVEPgm4"
      }
    },
    {
      "cell_type": "code",
      "source": [
        "!pip install -Uqq fastbook\n",
        "import fastbook\n",
        "fastbook.setup_book()"
      ],
      "metadata": {
        "colab": {
          "base_uri": "https://localhost:8080/"
        },
        "id": "jYJ_6R6LP7iE",
        "outputId": "d172df6b-bf3e-463b-830f-1b4b03391cba"
      },
      "execution_count": 13,
      "outputs": [
        {
          "output_type": "stream",
          "name": "stdout",
          "text": [
            "Mounted at /content/gdrive\n"
          ]
        }
      ]
    },
    {
      "cell_type": "code",
      "source": [
        "from fastbook import *"
      ],
      "metadata": {
        "id": "y5IVHus1P-Wm"
      },
      "execution_count": 14,
      "outputs": []
    },
    {
      "cell_type": "code",
      "source": [
        "from fastai.vision.all import *\n",
        "from fastai.vision.widgets import *\n",
        "def get_x(r): return path/r['fname']\n",
        "def get_y(r): return r['labels'].split(' ')"
      ],
      "metadata": {
        "id": "ak8VN3A4S1vK"
      },
      "execution_count": 15,
      "outputs": []
    },
    {
      "cell_type": "code",
      "source": [
        "path = Path('gdrive/Shared drives/mimimimimi')"
      ],
      "metadata": {
        "id": "VjWRxinlGwIV"
      },
      "execution_count": 16,
      "outputs": []
    },
    {
      "cell_type": "code",
      "source": [
        "path = Path('gdrive/Shared drives/mimimimimi')\n",
        "learn_inf = load_learner(path/'export.pkl')"
      ],
      "metadata": {
        "id": "rm45uqwnHn8j"
      },
      "execution_count": 17,
      "outputs": []
    },
    {
      "cell_type": "code",
      "source": [
        "btn_upload = widgets.FileUpload()\n",
        "btn_run = widgets.Button(description='Classify')\n",
        "out_pl = widgets.Output()\n",
        "out_pl.clear_output()\n",
        "lbl_pred = widgets.Label()\n",
        "\n",
        "def on_click_classify(change):\n",
        "    img = PILImage.create(btn_upload.data[-1])\n",
        "    out_pl.clear_output()\n",
        "    with out_pl: display(img.to_thumb(128,128))\n",
        "    pred_class,pred_idx,probabilities = learn_inf.predict(img)\n",
        "    animal = pred_class[0]\n",
        "    lbl_pred.value = f'Prediction: {animal.replace(\"_\", \" \").capitalize()}; Probability: {probabilities[pred_idx]}'\n",
        "\n",
        "btn_run.on_click(on_click_classify)"
      ],
      "metadata": {
        "id": "1Wkv2VWRBwFG"
      },
      "execution_count": 30,
      "outputs": []
    },
    {
      "cell_type": "code",
      "source": [
        "VBox([widgets.Label('Upload a photo of either a sea lion or a seal!'), \n",
        "      btn_upload, btn_run, out_pl, lbl_pred])"
      ],
      "metadata": {
        "colab": {
          "base_uri": "https://localhost:8080/",
          "height": 542,
          "referenced_widgets": [
            "ff73495275034ac4b3828bce90b1ea36",
            "d3697d5c416b4198bf86dd5070fd0e74",
            "e2e7d21547f345cfa2eaf14c9ff2ab04",
            "2899c5f6a1c843b4a212f1e1c167561c",
            "7844fef6395845b68242993bf6591990",
            "dc3e7aa72f3b4db689e75fb4299fc3bf",
            "5a41b982d6ad487d81cc94916c76404e",
            "8b3a126bbded4b2f84bee4f00f127553",
            "2048a69f7c67448880edf64983b412fc",
            "ecc4c04770454dc1b27c7cd43cd358f5",
            "31f6b7b926ed446d870636befd61dcaa",
            "511327ec21d746f09f0db61f609ac238",
            "43773eea46db4bacbc55a72e58af4cb0",
            "21bf9fc837594a408b32c50f378074bb",
            "08b0d5daee634dc8ab76aef0e45142ca",
            "72802356146442ac993257a45992d9be"
          ]
        },
        "id": "toj9DTCZPFUp",
        "outputId": "9edbfa77-50e6-4e80-c1bb-7418ef7cb7a3"
      },
      "execution_count": 31,
      "outputs": [
        {
          "output_type": "display_data",
          "data": {
            "text/plain": [
              "VBox(children=(Label(value='Upload a photo of either a sea lion or a seal!'), FileUpload(value={}, description…"
            ],
            "application/vnd.jupyter.widget-view+json": {
              "version_major": 2,
              "version_minor": 0,
              "model_id": "ff73495275034ac4b3828bce90b1ea36"
            }
          },
          "metadata": {}
        },
        {
          "output_type": "display_data",
          "data": {
            "text/plain": [
              "<IPython.core.display.HTML object>"
            ],
            "text/html": [
              "\n",
              "<style>\n",
              "    /* Turns off some styling */\n",
              "    progress {\n",
              "        /* gets rid of default border in Firefox and Opera. */\n",
              "        border: none;\n",
              "        /* Needs to be in here for Safari polyfill so background images work as expected. */\n",
              "        background-size: auto;\n",
              "    }\n",
              "    progress:not([value]), progress:not([value])::-webkit-progress-bar {\n",
              "        background: repeating-linear-gradient(45deg, #7e7e7e, #7e7e7e 10px, #5c5c5c 10px, #5c5c5c 20px);\n",
              "    }\n",
              "    .progress-bar-interrupted, .progress-bar-interrupted::-webkit-progress-bar {\n",
              "        background: #F44336;\n",
              "    }\n",
              "</style>\n"
            ]
          },
          "metadata": {}
        },
        {
          "output_type": "display_data",
          "data": {
            "text/plain": [
              "<IPython.core.display.HTML object>"
            ],
            "text/html": []
          },
          "metadata": {}
        },
        {
          "output_type": "error",
          "ename": "RuntimeError",
          "evalue": "ignored",
          "traceback": [
            "\u001b[0;31m---------------------------------------------------------------------------\u001b[0m",
            "\u001b[0;31mRuntimeError\u001b[0m                              Traceback (most recent call last)",
            "\u001b[0;32m<ipython-input-30-77a2f6db6634>\u001b[0m in \u001b[0;36mon_click_classify\u001b[0;34m(change)\u001b[0m\n\u001b[1;32m     12\u001b[0m     \u001b[0manimal\u001b[0m \u001b[0;34m=\u001b[0m \u001b[0mpred_class\u001b[0m\u001b[0;34m[\u001b[0m\u001b[0;36m0\u001b[0m\u001b[0;34m]\u001b[0m\u001b[0;34m\u001b[0m\u001b[0;34m\u001b[0m\u001b[0m\n\u001b[1;32m     13\u001b[0m     \u001b[0;32mfor\u001b[0m \u001b[0mi\u001b[0m \u001b[0;32min\u001b[0m \u001b[0mprobabilities\u001b[0m\u001b[0;34m:\u001b[0m\u001b[0;34m\u001b[0m\u001b[0;34m\u001b[0m\u001b[0m\n\u001b[0;32m---> 14\u001b[0;31m       \u001b[0;32mif\u001b[0m \u001b[0mprobabilities\u001b[0m\u001b[0;34m[\u001b[0m\u001b[0mpred_idx\u001b[0m\u001b[0;34m]\u001b[0m \u001b[0;34m<\u001b[0m \u001b[0;36m0.5\u001b[0m\u001b[0;34m:\u001b[0m\u001b[0;34m\u001b[0m\u001b[0;34m\u001b[0m\u001b[0m\n\u001b[0m\u001b[1;32m     15\u001b[0m          \u001b[0mpred_class\u001b[0m \u001b[0;34m=\u001b[0m \u001b[0;34m\"No seal/sea lion identified\"\u001b[0m\u001b[0;34m\u001b[0m\u001b[0;34m\u001b[0m\u001b[0m\n\u001b[1;32m     16\u001b[0m     \u001b[0mlbl_pred\u001b[0m\u001b[0;34m.\u001b[0m\u001b[0mvalue\u001b[0m \u001b[0;34m=\u001b[0m \u001b[0;34mf'Prediction: {animal.replace(\"_\", \" \").capitalize()}; Probability: {probabilities[pred_idx]}'\u001b[0m\u001b[0;34m\u001b[0m\u001b[0;34m\u001b[0m\u001b[0m\n",
            "\u001b[0;32m/usr/local/lib/python3.7/dist-packages/fastai/torch_core.py\u001b[0m in \u001b[0;36m__torch_function__\u001b[0;34m(cls, func, types, args, kwargs)\u001b[0m\n\u001b[1;32m    376\u001b[0m         \u001b[0;32mif\u001b[0m \u001b[0mcls\u001b[0m\u001b[0;34m.\u001b[0m\u001b[0mdebug\u001b[0m \u001b[0;32mand\u001b[0m \u001b[0mfunc\u001b[0m\u001b[0;34m.\u001b[0m\u001b[0m__name__\u001b[0m \u001b[0;32mnot\u001b[0m \u001b[0;32min\u001b[0m \u001b[0;34m(\u001b[0m\u001b[0;34m'__str__'\u001b[0m\u001b[0;34m,\u001b[0m\u001b[0;34m'__repr__'\u001b[0m\u001b[0;34m)\u001b[0m\u001b[0;34m:\u001b[0m \u001b[0mprint\u001b[0m\u001b[0;34m(\u001b[0m\u001b[0mfunc\u001b[0m\u001b[0;34m,\u001b[0m \u001b[0mtypes\u001b[0m\u001b[0;34m,\u001b[0m \u001b[0margs\u001b[0m\u001b[0;34m,\u001b[0m \u001b[0mkwargs\u001b[0m\u001b[0;34m)\u001b[0m\u001b[0;34m\u001b[0m\u001b[0;34m\u001b[0m\u001b[0m\n\u001b[1;32m    377\u001b[0m         \u001b[0;32mif\u001b[0m \u001b[0m_torch_handled\u001b[0m\u001b[0;34m(\u001b[0m\u001b[0margs\u001b[0m\u001b[0;34m,\u001b[0m \u001b[0mcls\u001b[0m\u001b[0;34m.\u001b[0m\u001b[0m_opt\u001b[0m\u001b[0;34m,\u001b[0m \u001b[0mfunc\u001b[0m\u001b[0;34m)\u001b[0m\u001b[0;34m:\u001b[0m \u001b[0mtypes\u001b[0m \u001b[0;34m=\u001b[0m \u001b[0;34m(\u001b[0m\u001b[0mtorch\u001b[0m\u001b[0;34m.\u001b[0m\u001b[0mTensor\u001b[0m\u001b[0;34m,\u001b[0m\u001b[0;34m)\u001b[0m\u001b[0;34m\u001b[0m\u001b[0;34m\u001b[0m\u001b[0m\n\u001b[0;32m--> 378\u001b[0;31m         \u001b[0mres\u001b[0m \u001b[0;34m=\u001b[0m \u001b[0msuper\u001b[0m\u001b[0;34m(\u001b[0m\u001b[0;34m)\u001b[0m\u001b[0;34m.\u001b[0m\u001b[0m__torch_function__\u001b[0m\u001b[0;34m(\u001b[0m\u001b[0mfunc\u001b[0m\u001b[0;34m,\u001b[0m \u001b[0mtypes\u001b[0m\u001b[0;34m,\u001b[0m \u001b[0margs\u001b[0m\u001b[0;34m,\u001b[0m \u001b[0mifnone\u001b[0m\u001b[0;34m(\u001b[0m\u001b[0mkwargs\u001b[0m\u001b[0;34m,\u001b[0m \u001b[0;34m{\u001b[0m\u001b[0;34m}\u001b[0m\u001b[0;34m)\u001b[0m\u001b[0;34m)\u001b[0m\u001b[0;34m\u001b[0m\u001b[0;34m\u001b[0m\u001b[0m\n\u001b[0m\u001b[1;32m    379\u001b[0m         \u001b[0mdict_objs\u001b[0m \u001b[0;34m=\u001b[0m \u001b[0m_find_args\u001b[0m\u001b[0;34m(\u001b[0m\u001b[0margs\u001b[0m\u001b[0;34m)\u001b[0m \u001b[0;32mif\u001b[0m \u001b[0margs\u001b[0m \u001b[0;32melse\u001b[0m \u001b[0m_find_args\u001b[0m\u001b[0;34m(\u001b[0m\u001b[0mlist\u001b[0m\u001b[0;34m(\u001b[0m\u001b[0mkwargs\u001b[0m\u001b[0;34m.\u001b[0m\u001b[0mvalues\u001b[0m\u001b[0;34m(\u001b[0m\u001b[0;34m)\u001b[0m\u001b[0;34m)\u001b[0m\u001b[0;34m)\u001b[0m\u001b[0;34m\u001b[0m\u001b[0;34m\u001b[0m\u001b[0m\n\u001b[1;32m    380\u001b[0m         \u001b[0;32mif\u001b[0m \u001b[0missubclass\u001b[0m\u001b[0;34m(\u001b[0m\u001b[0mtype\u001b[0m\u001b[0;34m(\u001b[0m\u001b[0mres\u001b[0m\u001b[0;34m)\u001b[0m\u001b[0;34m,\u001b[0m\u001b[0mTensorBase\u001b[0m\u001b[0;34m)\u001b[0m \u001b[0;32mand\u001b[0m \u001b[0mdict_objs\u001b[0m\u001b[0;34m:\u001b[0m \u001b[0mres\u001b[0m\u001b[0;34m.\u001b[0m\u001b[0mset_meta\u001b[0m\u001b[0;34m(\u001b[0m\u001b[0mdict_objs\u001b[0m\u001b[0;34m[\u001b[0m\u001b[0;36m0\u001b[0m\u001b[0;34m]\u001b[0m\u001b[0;34m,\u001b[0m\u001b[0mas_copy\u001b[0m\u001b[0;34m=\u001b[0m\u001b[0;32mTrue\u001b[0m\u001b[0;34m)\u001b[0m\u001b[0;34m\u001b[0m\u001b[0;34m\u001b[0m\u001b[0m\n",
            "\u001b[0;32m/usr/local/lib/python3.7/dist-packages/torch/_tensor.py\u001b[0m in \u001b[0;36m__torch_function__\u001b[0;34m(cls, func, types, args, kwargs)\u001b[0m\n\u001b[1;32m   1119\u001b[0m \u001b[0;34m\u001b[0m\u001b[0m\n\u001b[1;32m   1120\u001b[0m         \u001b[0;32mwith\u001b[0m \u001b[0m_C\u001b[0m\u001b[0;34m.\u001b[0m\u001b[0mDisableTorchFunction\u001b[0m\u001b[0;34m(\u001b[0m\u001b[0;34m)\u001b[0m\u001b[0;34m:\u001b[0m\u001b[0;34m\u001b[0m\u001b[0;34m\u001b[0m\u001b[0m\n\u001b[0;32m-> 1121\u001b[0;31m             \u001b[0mret\u001b[0m \u001b[0;34m=\u001b[0m \u001b[0mfunc\u001b[0m\u001b[0;34m(\u001b[0m\u001b[0;34m*\u001b[0m\u001b[0margs\u001b[0m\u001b[0;34m,\u001b[0m \u001b[0;34m**\u001b[0m\u001b[0mkwargs\u001b[0m\u001b[0;34m)\u001b[0m\u001b[0;34m\u001b[0m\u001b[0;34m\u001b[0m\u001b[0m\n\u001b[0m\u001b[1;32m   1122\u001b[0m             \u001b[0;32mif\u001b[0m \u001b[0mfunc\u001b[0m \u001b[0;32min\u001b[0m \u001b[0mget_default_nowrap_functions\u001b[0m\u001b[0;34m(\u001b[0m\u001b[0;34m)\u001b[0m\u001b[0;34m:\u001b[0m\u001b[0;34m\u001b[0m\u001b[0;34m\u001b[0m\u001b[0m\n\u001b[1;32m   1123\u001b[0m                 \u001b[0;32mreturn\u001b[0m \u001b[0mret\u001b[0m\u001b[0;34m\u001b[0m\u001b[0;34m\u001b[0m\u001b[0m\n",
            "\u001b[0;31mRuntimeError\u001b[0m: Boolean value of Tensor with more than one value is ambiguous"
          ]
        }
      ]
    }
  ]
}